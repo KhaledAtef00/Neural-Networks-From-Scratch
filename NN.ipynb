{
 "cells": [
  {
   "cell_type": "code",
   "execution_count": 2,
   "id": "79a627fe",
   "metadata": {},
   "outputs": [],
   "source": [
    "class Neuron:\n",
    "    def __init__(self , nin):\n",
    "        # Intializing Weights & Bias\n",
    "        # nin is number of inputs of neruron\n",
    "        self.w = [Term(random.uniform(-1,1)) for _ in range(nin)]\n",
    "        self.b = Term(random.uniform(-1,1))\n",
    "    def __call__(self, x):\n",
    "        # W X +B\n",
    "        act = np.dot(self.w , x) + self.b\n",
    "        return act.tanh()\n",
    "    def parameters(self):\n",
    "        return self.w + [self.b]\n",
    "\n",
    "class Layer:\n",
    "    def __init__(self , nin , nout):\n",
    "        # Each Layer has (nout) neurons where each neuron has nin # of inputs\n",
    "        self.neurons = [Neuron(nin) for _ in range(nout)]\n",
    "    def __call__(self ,x):\n",
    "        outs = [n(x) for n in self.neurons]\n",
    "        return outs[0] if len(outs) == 1 else outs\n",
    "\n",
    "    def parameters(self):\n",
    "        params =[]\n",
    "        for neuron in self.neurons:\n",
    "            ps = neuron.parameters()\n",
    "            params.extend(ps)\n",
    "        return params\n",
    "\n",
    "class MLP:\n",
    "    # MLP has List of Layers  , \n",
    "    # Each Layer has list of Neurons  , \n",
    "    #Each Neuorn has its List of Weights & bias .\n",
    "    def __init__(self , nin , nouts):\n",
    "        # nin is number of inputs\n",
    "        # nouts here is a list that holds size of every layer\n",
    "        sz = [nin] + nouts\n",
    "        self.layers = [Layer(sz[i] , sz[i+1]) for i in range(len(nouts))]\n",
    "        # every layer takes input and produce output which is the input for the next layer\n",
    "    \n",
    "    def __call__(self , x):\n",
    "        for layer in self.layers:\n",
    "            x = layer(x)\n",
    "        return x\n",
    "    \n",
    "    def parameters(self):\n",
    "        params =[]\n",
    "        for layer in self.layers:\n",
    "            ps = layer.parameters()\n",
    "            params.extend(ps)\n",
    "        return params\n",
    "                "
   ]
  }
 ],
 "metadata": {
  "kernelspec": {
   "display_name": "Python 3 (ipykernel)",
   "language": "python",
   "name": "python3"
  },
  "language_info": {
   "codemirror_mode": {
    "name": "ipython",
    "version": 3
   },
   "file_extension": ".py",
   "mimetype": "text/x-python",
   "name": "python",
   "nbconvert_exporter": "python",
   "pygments_lexer": "ipython3",
   "version": "3.8.6"
  }
 },
 "nbformat": 4,
 "nbformat_minor": 5
}
